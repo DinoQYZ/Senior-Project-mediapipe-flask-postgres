{
 "cells": [
  {
   "cell_type": "markdown",
   "id": "89047700",
   "metadata": {},
   "source": [
    "<img src=\"https://i.imgur.com/3j8BPdc.png\" style=\"height:300px\" >"
   ]
  },
  {
   "cell_type": "markdown",
   "id": "f6387c99",
   "metadata": {},
   "source": [
    "## Biceps curl 彎舉"
   ]
  },
  {
   "cell_type": "code",
   "execution_count": null,
   "id": "bf9929c2",
   "metadata": {},
   "outputs": [],
   "source": [
    "from gym_assistant import *\n",
    "biceps_curl()"
   ]
  },
  {
   "cell_type": "markdown",
   "id": "39fe233c",
   "metadata": {},
   "source": [
    "## Squat 深蹲"
   ]
  },
  {
   "cell_type": "code",
   "execution_count": null,
   "id": "dcf3f714",
   "metadata": {},
   "outputs": [],
   "source": [
    "from gym_assistant import *\n",
    "squat()"
   ]
  },
  {
   "cell_type": "markdown",
   "id": "8ef16a45",
   "metadata": {},
   "source": [
    "## Shoulder press 肩推"
   ]
  },
  {
   "cell_type": "code",
   "execution_count": null,
   "id": "dd906f42",
   "metadata": {},
   "outputs": [],
   "source": [
    "from gym_assistant import *\n",
    "shoulder_press()"
   ]
  },
  {
   "cell_type": "markdown",
   "id": "4e42a3ce",
   "metadata": {},
   "source": [
    "## Lateral raise 側平舉"
   ]
  },
  {
   "cell_type": "code",
   "execution_count": null,
   "id": "353ebf0c",
   "metadata": {},
   "outputs": [],
   "source": [
    "from gym_assistant import *\n",
    "lateral_raise()"
   ]
  },
  {
   "cell_type": "markdown",
   "id": "65c20c31",
   "metadata": {},
   "source": [
    "## "
   ]
  },
  {
   "cell_type": "code",
   "execution_count": 3,
   "id": "bfea6144",
   "metadata": {},
   "outputs": [
    {
     "ename": "TypeError",
     "evalue": "biceps_curl() missing 3 required positional arguments: 'results', 'image', and 'stats'",
     "output_type": "error",
     "traceback": [
      "\u001b[1;31m---------------------------------------------------------------------------\u001b[0m",
      "\u001b[1;31mTypeError\u001b[0m                                 Traceback (most recent call last)",
      "Input \u001b[1;32mIn [3]\u001b[0m, in \u001b[0;36m<cell line: 2>\u001b[1;34m()\u001b[0m\n\u001b[0;32m      1\u001b[0m \u001b[38;5;28;01mfrom\u001b[39;00m \u001b[38;5;21;01mgym_assistant_2\u001b[39;00m \u001b[38;5;28;01mimport\u001b[39;00m \u001b[38;5;241m*\u001b[39m\n\u001b[1;32m----> 2\u001b[0m openCam(\u001b[43mbiceps_curl\u001b[49m\u001b[43m(\u001b[49m\u001b[43m)\u001b[49m)\n",
      "\u001b[1;31mTypeError\u001b[0m: biceps_curl() missing 3 required positional arguments: 'results', 'image', and 'stats'"
     ]
    }
   ],
   "source": [
    "from gym_assistant_2 import *\n",
    "openCam(biceps_curl)"
   ]
  },
  {
   "cell_type": "markdown",
   "id": "9a15077a",
   "metadata": {},
   "source": [
    "## "
   ]
  },
  {
   "cell_type": "code",
   "execution_count": null,
   "id": "6b3a4499",
   "metadata": {},
   "outputs": [],
   "source": []
  }
 ],
 "metadata": {
  "kernelspec": {
   "display_name": "Python 3 (ipykernel)",
   "language": "python",
   "name": "python3"
  },
  "language_info": {
   "codemirror_mode": {
    "name": "ipython",
    "version": 3
   },
   "file_extension": ".py",
   "mimetype": "text/x-python",
   "name": "python",
   "nbconvert_exporter": "python",
   "pygments_lexer": "ipython3",
   "version": "3.8.12"
  }
 },
 "nbformat": 4,
 "nbformat_minor": 5
}
