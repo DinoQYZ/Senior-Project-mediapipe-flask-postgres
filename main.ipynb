{
 "cells": [
  {
   "cell_type": "markdown",
   "id": "89047700",
   "metadata": {},
   "source": [
    "<img src=\"https://i.imgur.com/3j8BPdc.png\" style=\"height:300px\" >"
   ]
  },
  {
   "cell_type": "markdown",
   "id": "f6387c99",
   "metadata": {},
   "source": [
    "## Biceps curl 彎舉"
   ]
  },
  {
   "cell_type": "code",
   "execution_count": null,
   "id": "bf9929c2",
   "metadata": {},
   "outputs": [],
   "source": [
    "from gym_assistant import *\n",
    "biceps_curl()"
   ]
  },
  {
   "cell_type": "markdown",
   "id": "39fe233c",
   "metadata": {},
   "source": [
    "## Squat 深蹲"
   ]
  },
  {
   "cell_type": "code",
   "execution_count": null,
   "id": "dcf3f714",
   "metadata": {},
   "outputs": [],
   "source": [
    "from gym_assistant import *\n",
    "squat()"
   ]
  },
  {
   "cell_type": "markdown",
   "id": "8ef16a45",
   "metadata": {},
   "source": [
    "## Shoulder press 肩推"
   ]
  },
  {
   "cell_type": "code",
   "execution_count": null,
   "id": "dd906f42",
   "metadata": {},
   "outputs": [],
   "source": [
    "from gym_assistant import *\n",
    "shoulder_press()"
   ]
  },
  {
   "cell_type": "markdown",
   "id": "4e42a3ce",
   "metadata": {},
   "source": [
    "## Lateral raise 側平舉"
   ]
  },
  {
   "cell_type": "code",
   "execution_count": null,
   "id": "353ebf0c",
   "metadata": {},
   "outputs": [],
   "source": [
    "from gym_assistant import *\n",
    "lateral_raise()"
   ]
  },
  {
   "cell_type": "markdown",
   "id": "65c20c31",
   "metadata": {},
   "source": [
    "## "
   ]
  },
  {
   "cell_type": "code",
   "execution_count": null,
   "id": "bfea6144",
   "metadata": {},
   "outputs": [],
   "source": [
    "from gym_assistant import *\n",
    "# openCam(lateral_raise)\n",
    "openCam(biceps_curl)\n",
    "# openCam(shoulder_press)q"
   ]
  },
  {
   "cell_type": "markdown",
   "id": "9a15077a",
   "metadata": {},
   "source": [
    "## "
   ]
  },
  {
   "cell_type": "code",
   "execution_count": null,
   "id": "6b3a4499",
   "metadata": {},
   "outputs": [],
   "source": []
  }
 ],
 "metadata": {
  "kernelspec": {
   "display_name": "Python 3.8.12 ('Py38')",
   "language": "python",
   "name": "python3"
  },
  "language_info": {
   "codemirror_mode": {
    "name": "ipython",
    "version": 3
   },
   "file_extension": ".py",
   "mimetype": "text/x-python",
   "name": "python",
   "nbconvert_exporter": "python",
   "pygments_lexer": "ipython3",
   "version": "3.8.12"
  },
  "vscode": {
   "interpreter": {
    "hash": "5fe2023e36d0c5572045c1ed13ac1af051c625c4f8b3a10be5a9619e8c15742e"
   }
  }
 },
 "nbformat": 4,
 "nbformat_minor": 5
}
